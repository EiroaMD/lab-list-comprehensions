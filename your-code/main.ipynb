{
 "cells": [
  {
   "cell_type": "markdown",
   "metadata": {},
   "source": [
    "# List Comprehensions Lab\n",
    "\n",
    "Complete the following set of exercises to solidify your knowledge of list comprehensions."
   ]
  },
  {
   "cell_type": "code",
   "execution_count": 1,
   "metadata": {},
   "outputs": [
    {
     "name": "stdout",
     "output_type": "stream",
     "text": [
      "Collecting numpy\n",
      "  Using cached https://files.pythonhosted.org/packages/87/2d/e4656149cbadd3a8a0369fcd1a9c7d61cc7b87b3903b85389c70c989a696/numpy-1.16.4-cp36-cp36m-manylinux1_x86_64.whl\n",
      "Installing collected packages: numpy\n",
      "Successfully installed numpy-1.16.4\n"
     ]
    }
   ],
   "source": [
    "import sys\n",
    "!{sys.executable} -m pip install numpy"
   ]
  },
  {
   "cell_type": "code",
   "execution_count": 2,
   "metadata": {},
   "outputs": [
    {
     "name": "stdout",
     "output_type": "stream",
     "text": [
      "Collecting pandas\n",
      "  Using cached https://files.pythonhosted.org/packages/19/74/e50234bc82c553fecdbd566d8650801e3fe2d6d8c8d940638e3d8a7c5522/pandas-0.24.2-cp36-cp36m-manylinux1_x86_64.whl\n",
      "Collecting numpy>=1.12.0 (from pandas)\n",
      "  Using cached https://files.pythonhosted.org/packages/87/2d/e4656149cbadd3a8a0369fcd1a9c7d61cc7b87b3903b85389c70c989a696/numpy-1.16.4-cp36-cp36m-manylinux1_x86_64.whl\n",
      "Collecting pytz>=2011k (from pandas)\n",
      "  Using cached https://files.pythonhosted.org/packages/3d/73/fe30c2daaaa0713420d0382b16fbb761409f532c56bdcc514bf7b6262bb6/pytz-2019.1-py2.py3-none-any.whl\n",
      "Collecting python-dateutil>=2.5.0 (from pandas)\n",
      "  Using cached https://files.pythonhosted.org/packages/41/17/c62faccbfbd163c7f57f3844689e3a78bae1f403648a6afb1d0866d87fbb/python_dateutil-2.8.0-py2.py3-none-any.whl\n",
      "Collecting six>=1.5 (from python-dateutil>=2.5.0->pandas)\n",
      "  Using cached https://files.pythonhosted.org/packages/73/fb/00a976f728d0d1fecfe898238ce23f502a721c0ac0ecfedb80e0d88c64e9/six-1.12.0-py2.py3-none-any.whl\n",
      "Installing collected packages: numpy, pytz, six, python-dateutil, pandas\n",
      "Successfully installed numpy-1.16.4 pandas-0.24.2 python-dateutil-2.8.0 pytz-2019.1 six-1.12.0\n"
     ]
    }
   ],
   "source": [
    "import sys\n",
    "!{sys.executable} -m pip install pandas"
   ]
  },
  {
   "cell_type": "code",
   "execution_count": 3,
   "metadata": {},
   "outputs": [],
   "source": [
    "import os\n",
    "import numpy as np\n",
    "import pandas as pd"
   ]
  },
  {
   "cell_type": "markdown",
   "metadata": {},
   "source": [
    "### 1. Use a list comprehension to create and print a list of consecutive integers starting with 1 and ending with 50."
   ]
  },
  {
   "cell_type": "code",
   "execution_count": 4,
   "metadata": {},
   "outputs": [
    {
     "name": "stdout",
     "output_type": "stream",
     "text": [
      "[1, 2, 3, 4, 5, 6, 7, 8, 9, 10, 11, 12, 13, 14, 15, 16, 17, 18, 19, 20, 21, 22, 23, 24, 25, 26, 27, 28, 29, 30, 31, 32, 33, 34, 35, 36, 37, 38, 39, 40, 41, 42, 43, 44, 45, 46, 47, 48, 49, 50]\n"
     ]
    }
   ],
   "source": [
    "lst1 = [x for x in range(1,51)]\n",
    "print(lst1)"
   ]
  },
  {
   "cell_type": "markdown",
   "metadata": {},
   "source": [
    "### 2. Use a list comprehension to create and print a list of even numbers starting with 2 and ending with 200."
   ]
  },
  {
   "cell_type": "code",
   "execution_count": 5,
   "metadata": {},
   "outputs": [
    {
     "name": "stdout",
     "output_type": "stream",
     "text": [
      "[2, 4, 6, 8, 10, 12, 14, 16, 18, 20, 22, 24, 26, 28, 30, 32, 34, 36, 38, 40, 42, 44, 46, 48, 50, 52, 54, 56, 58, 60, 62, 64, 66, 68, 70, 72, 74, 76, 78, 80, 82, 84, 86, 88, 90, 92, 94, 96, 98, 100, 102, 104, 106, 108, 110, 112, 114, 116, 118, 120, 122, 124, 126, 128, 130, 132, 134, 136, 138, 140, 142, 144, 146, 148, 150, 152, 154, 156, 158, 160, 162, 164, 166, 168, 170, 172, 174, 176, 178, 180, 182, 184, 186, 188, 190, 192, 194, 196, 198, 200]\n"
     ]
    }
   ],
   "source": [
    "lst2 = [x for x in range(2,201) if (x%2 == 0)]\n",
    "print(lst2)"
   ]
  },
  {
   "cell_type": "markdown",
   "metadata": {},
   "source": [
    "### 3. Use a list comprehension to create and print a list containing all elements of the 10 x 4 Numpy array below."
   ]
  },
  {
   "cell_type": "code",
   "execution_count": 6,
   "metadata": {},
   "outputs": [],
   "source": [
    "a = np.array([[0.84062117, 0.48006452, 0.7876326 , 0.77109654],\n",
    "       [0.44409793, 0.09014516, 0.81835917, 0.87645456],\n",
    "       [0.7066597 , 0.09610873, 0.41247947, 0.57433389],\n",
    "       [0.29960807, 0.42315023, 0.34452557, 0.4751035 ],\n",
    "       [0.17003563, 0.46843998, 0.92796258, 0.69814654],\n",
    "       [0.41290051, 0.19561071, 0.16284783, 0.97016248],\n",
    "       [0.71725408, 0.87702738, 0.31244595, 0.76615487],\n",
    "       [0.20754036, 0.57871812, 0.07214068, 0.40356048],\n",
    "       [0.12149553, 0.53222417, 0.9976855 , 0.12536346],\n",
    "       [0.80930099, 0.50962849, 0.94555126, 0.33364763]])"
   ]
  },
  {
   "cell_type": "code",
   "execution_count": 7,
   "metadata": {},
   "outputs": [
    {
     "name": "stdout",
     "output_type": "stream",
     "text": [
      "[0.84062117, 0.48006452, 0.7876326, 0.77109654, 0.44409793, 0.09014516, 0.81835917, 0.87645456, 0.7066597, 0.09610873, 0.41247947, 0.57433389, 0.29960807, 0.42315023, 0.34452557, 0.4751035, 0.17003563, 0.46843998, 0.92796258, 0.69814654, 0.41290051, 0.19561071, 0.16284783, 0.97016248, 0.71725408, 0.87702738, 0.31244595, 0.76615487, 0.20754036, 0.57871812, 0.07214068, 0.40356048, 0.12149553, 0.53222417, 0.9976855, 0.12536346, 0.80930099, 0.50962849, 0.94555126, 0.33364763]\n"
     ]
    }
   ],
   "source": [
    "lst3 = [y for x in a for y in x]\n",
    "print(lst3)"
   ]
  },
  {
   "cell_type": "markdown",
   "metadata": {},
   "source": [
    "### 4. Add a condition to the list comprehension above so that only values greater than or equal to 0.5 are printed."
   ]
  },
  {
   "cell_type": "code",
   "execution_count": 8,
   "metadata": {},
   "outputs": [
    {
     "name": "stdout",
     "output_type": "stream",
     "text": [
      "[0.84062117, 0.7876326, 0.77109654, 0.81835917, 0.87645456, 0.7066597, 0.57433389, 0.92796258, 0.69814654, 0.97016248, 0.71725408, 0.87702738, 0.76615487, 0.57871812, 0.53222417, 0.9976855, 0.80930099, 0.50962849, 0.94555126]\n"
     ]
    }
   ],
   "source": [
    "lst4 = [y for x in a for y in x if y >= 0.5]\n",
    "print(lst4)"
   ]
  },
  {
   "cell_type": "markdown",
   "metadata": {},
   "source": [
    "### 5. Use a list comprehension to create and print a list containing all elements of the 5 x 2 x 3 Numpy array below."
   ]
  },
  {
   "cell_type": "code",
   "execution_count": 9,
   "metadata": {},
   "outputs": [],
   "source": [
    "b = np.array([[[0.55867166, 0.06210792, 0.08147297],\n",
    "        [0.82579068, 0.91512478, 0.06833034]],\n",
    "\n",
    "       [[0.05440634, 0.65857693, 0.30296619],\n",
    "        [0.06769833, 0.96031863, 0.51293743]],\n",
    "\n",
    "       [[0.09143215, 0.71893382, 0.45850679],\n",
    "        [0.58256464, 0.59005654, 0.56266457]],\n",
    "\n",
    "       [[0.71600294, 0.87392666, 0.11434044],\n",
    "        [0.8694668 , 0.65669313, 0.10708681]],\n",
    "\n",
    "       [[0.07529684, 0.46470767, 0.47984544],\n",
    "        [0.65368638, 0.14901286, 0.23760688]]])"
   ]
  },
  {
   "cell_type": "code",
   "execution_count": 10,
   "metadata": {},
   "outputs": [
    {
     "name": "stdout",
     "output_type": "stream",
     "text": [
      "[0.55867166, 0.06210792, 0.08147297, 0.82579068, 0.91512478, 0.06833034, 0.05440634, 0.65857693, 0.30296619, 0.06769833, 0.96031863, 0.51293743, 0.09143215, 0.71893382, 0.45850679, 0.58256464, 0.59005654, 0.56266457, 0.71600294, 0.87392666, 0.11434044, 0.8694668, 0.65669313, 0.10708681, 0.07529684, 0.46470767, 0.47984544, 0.65368638, 0.14901286, 0.23760688]\n"
     ]
    }
   ],
   "source": [
    "lst5 = [x for z in b for y in z for x in y]\n",
    "print(lst5)"
   ]
  },
  {
   "cell_type": "markdown",
   "metadata": {},
   "source": [
    "### 5. Add a condition to the list comprehension above so that the last value in each subarray is printed, but only if it is less than or equal to 0.5."
   ]
  },
  {
   "cell_type": "code",
   "execution_count": 11,
   "metadata": {},
   "outputs": [
    {
     "name": "stdout",
     "output_type": "stream",
     "text": [
      "[0.08147297, 0.08147297, 0.08147297, 0.06833034, 0.06833034, 0.06833034, 0.30296619, 0.30296619, 0.30296619, 0.45850679, 0.45850679, 0.45850679, 0.11434044, 0.11434044, 0.11434044, 0.10708681, 0.10708681, 0.10708681, 0.47984544, 0.47984544, 0.47984544, 0.23760688, 0.23760688, 0.23760688]\n"
     ]
    }
   ],
   "source": [
    "lst6 = [x[-1] for i in b for x in i for y in x if x[-1]<=0.5]\n",
    "print(lst6)"
   ]
  },
  {
   "cell_type": "markdown",
   "metadata": {},
   "source": [
    "Aquí me está repitiendo tres veces cada valor - le pasa a Myrto también, pendiente de buscar solución."
   ]
  },
  {
   "cell_type": "markdown",
   "metadata": {},
   "source": [
    "### 6. Use a list comprehension to select and print the names of all CSV files in the */data* directory."
   ]
  },
  {
   "cell_type": "code",
   "execution_count": 12,
   "metadata": {},
   "outputs": [
    {
     "name": "stdout",
     "output_type": "stream",
     "text": [
      "['sample_file_8.csv', 'sample_file_0.csv', 'sample_file_5.txt', 'sample_file_7.csv', 'sample_file_6.txt', 'sample_file_4.csv', 'sample_file_6.csv', 'sample_file_1.csv', 'sample_file_3.csv', 'sample_file_4.txt', 'sample_file_9.csv', 'sample_file_1.txt', 'sample_file_9.txt', 'sample_file_0.txt', 'sample_file_7.txt', 'sample_file_5.csv', 'sample_file_8.txt', 'sample_file_2.csv', 'sample_file_3.txt', 'sample_file_2.txt']\n"
     ]
    }
   ],
   "source": [
    "# os.listdir sirve para ver cuál es el contenido de un directorio.\n",
    "dirlist = os.listdir(\"/home/eiroamd/Documents/IH/Week1/lab-list-comprehensions/data\")\n",
    "print(dirlist)"
   ]
  },
  {
   "cell_type": "markdown",
   "metadata": {},
   "source": [
    "### 7. Use a list comprehension and the Pandas `read_csv` and `concat` methods to read all CSV files in the */data* directory and combine them into a single data frame. Display the top 10 rows of the resulting data frame."
   ]
  },
  {
   "cell_type": "code",
   "execution_count": 13,
   "metadata": {
    "scrolled": false
   },
   "outputs": [
    {
     "name": "stdout",
     "output_type": "stream",
     "text": [
      "['sample_file_8.csv', 'sample_file_0.csv', 'sample_file_7.csv', 'sample_file_4.csv', 'sample_file_6.csv', 'sample_file_1.csv', 'sample_file_3.csv', 'sample_file_9.csv', 'sample_file_5.csv', 'sample_file_2.csv']\n"
     ]
    },
    {
     "data": {
      "text/html": [
       "<div>\n",
       "<style scoped>\n",
       "    .dataframe tbody tr th:only-of-type {\n",
       "        vertical-align: middle;\n",
       "    }\n",
       "\n",
       "    .dataframe tbody tr th {\n",
       "        vertical-align: top;\n",
       "    }\n",
       "\n",
       "    .dataframe thead th {\n",
       "        text-align: right;\n",
       "    }\n",
       "</style>\n",
       "<table border=\"1\" class=\"dataframe\">\n",
       "  <thead>\n",
       "    <tr style=\"text-align: right;\">\n",
       "      <th></th>\n",
       "      <th>0</th>\n",
       "      <th>1</th>\n",
       "      <th>2</th>\n",
       "      <th>3</th>\n",
       "      <th>4</th>\n",
       "      <th>5</th>\n",
       "      <th>6</th>\n",
       "      <th>7</th>\n",
       "      <th>8</th>\n",
       "      <th>9</th>\n",
       "      <th>10</th>\n",
       "      <th>11</th>\n",
       "      <th>12</th>\n",
       "      <th>13</th>\n",
       "      <th>14</th>\n",
       "      <th>15</th>\n",
       "      <th>16</th>\n",
       "      <th>17</th>\n",
       "      <th>18</th>\n",
       "      <th>19</th>\n",
       "    </tr>\n",
       "  </thead>\n",
       "  <tbody>\n",
       "    <tr>\n",
       "      <th>0</th>\n",
       "      <td>0.132453</td>\n",
       "      <td>0.106635</td>\n",
       "      <td>0.673568</td>\n",
       "      <td>0.507253</td>\n",
       "      <td>0.162925</td>\n",
       "      <td>0.130042</td>\n",
       "      <td>0.980388</td>\n",
       "      <td>0.623167</td>\n",
       "      <td>0.074066</td>\n",
       "      <td>0.111557</td>\n",
       "      <td>0.864664</td>\n",
       "      <td>0.093637</td>\n",
       "      <td>0.446974</td>\n",
       "      <td>0.022525</td>\n",
       "      <td>0.713369</td>\n",
       "      <td>0.707874</td>\n",
       "      <td>0.563506</td>\n",
       "      <td>0.982256</td>\n",
       "      <td>0.562498</td>\n",
       "      <td>0.968681</td>\n",
       "    </tr>\n",
       "    <tr>\n",
       "      <th>1</th>\n",
       "      <td>0.384938</td>\n",
       "      <td>0.767604</td>\n",
       "      <td>0.850528</td>\n",
       "      <td>0.605998</td>\n",
       "      <td>0.826172</td>\n",
       "      <td>0.667488</td>\n",
       "      <td>0.142045</td>\n",
       "      <td>0.086904</td>\n",
       "      <td>0.912348</td>\n",
       "      <td>0.892183</td>\n",
       "      <td>0.426389</td>\n",
       "      <td>0.776552</td>\n",
       "      <td>0.429496</td>\n",
       "      <td>0.602056</td>\n",
       "      <td>0.283769</td>\n",
       "      <td>0.166793</td>\n",
       "      <td>0.316878</td>\n",
       "      <td>0.688337</td>\n",
       "      <td>0.169525</td>\n",
       "      <td>0.966198</td>\n",
       "    </tr>\n",
       "    <tr>\n",
       "      <th>2</th>\n",
       "      <td>0.318691</td>\n",
       "      <td>0.675720</td>\n",
       "      <td>0.807189</td>\n",
       "      <td>0.752518</td>\n",
       "      <td>0.531342</td>\n",
       "      <td>0.703225</td>\n",
       "      <td>0.598293</td>\n",
       "      <td>0.921508</td>\n",
       "      <td>0.563333</td>\n",
       "      <td>0.184300</td>\n",
       "      <td>0.667625</td>\n",
       "      <td>0.270017</td>\n",
       "      <td>0.573440</td>\n",
       "      <td>0.163669</td>\n",
       "      <td>0.032852</td>\n",
       "      <td>0.689315</td>\n",
       "      <td>0.973684</td>\n",
       "      <td>0.719610</td>\n",
       "      <td>0.163670</td>\n",
       "      <td>0.724486</td>\n",
       "    </tr>\n",
       "    <tr>\n",
       "      <th>3</th>\n",
       "      <td>0.538593</td>\n",
       "      <td>0.291241</td>\n",
       "      <td>0.407187</td>\n",
       "      <td>0.613260</td>\n",
       "      <td>0.851424</td>\n",
       "      <td>0.962086</td>\n",
       "      <td>0.590512</td>\n",
       "      <td>0.980700</td>\n",
       "      <td>0.159022</td>\n",
       "      <td>0.684265</td>\n",
       "      <td>0.898633</td>\n",
       "      <td>0.470113</td>\n",
       "      <td>0.756593</td>\n",
       "      <td>0.282408</td>\n",
       "      <td>0.551369</td>\n",
       "      <td>0.732153</td>\n",
       "      <td>0.494100</td>\n",
       "      <td>0.792803</td>\n",
       "      <td>0.794426</td>\n",
       "      <td>0.837695</td>\n",
       "    </tr>\n",
       "    <tr>\n",
       "      <th>4</th>\n",
       "      <td>0.713271</td>\n",
       "      <td>0.156210</td>\n",
       "      <td>0.392800</td>\n",
       "      <td>0.702348</td>\n",
       "      <td>0.009400</td>\n",
       "      <td>0.030304</td>\n",
       "      <td>0.960066</td>\n",
       "      <td>0.688937</td>\n",
       "      <td>0.260252</td>\n",
       "      <td>0.634608</td>\n",
       "      <td>0.273775</td>\n",
       "      <td>0.264145</td>\n",
       "      <td>0.682941</td>\n",
       "      <td>0.908499</td>\n",
       "      <td>0.450950</td>\n",
       "      <td>0.200761</td>\n",
       "      <td>0.968324</td>\n",
       "      <td>0.221165</td>\n",
       "      <td>0.891382</td>\n",
       "      <td>0.398914</td>\n",
       "    </tr>\n",
       "    <tr>\n",
       "      <th>0</th>\n",
       "      <td>0.734751</td>\n",
       "      <td>0.195362</td>\n",
       "      <td>0.734309</td>\n",
       "      <td>0.598184</td>\n",
       "      <td>0.763433</td>\n",
       "      <td>0.263434</td>\n",
       "      <td>0.868066</td>\n",
       "      <td>0.058092</td>\n",
       "      <td>0.753502</td>\n",
       "      <td>0.587513</td>\n",
       "      <td>0.311608</td>\n",
       "      <td>0.178356</td>\n",
       "      <td>0.182922</td>\n",
       "      <td>0.147631</td>\n",
       "      <td>0.391188</td>\n",
       "      <td>0.816049</td>\n",
       "      <td>0.749068</td>\n",
       "      <td>0.293260</td>\n",
       "      <td>0.937828</td>\n",
       "      <td>0.880858</td>\n",
       "    </tr>\n",
       "    <tr>\n",
       "      <th>1</th>\n",
       "      <td>0.772607</td>\n",
       "      <td>0.445391</td>\n",
       "      <td>0.249642</td>\n",
       "      <td>0.787922</td>\n",
       "      <td>0.598583</td>\n",
       "      <td>0.827238</td>\n",
       "      <td>0.624126</td>\n",
       "      <td>0.601524</td>\n",
       "      <td>0.688753</td>\n",
       "      <td>0.338870</td>\n",
       "      <td>0.081595</td>\n",
       "      <td>0.471474</td>\n",
       "      <td>0.267443</td>\n",
       "      <td>0.453351</td>\n",
       "      <td>0.800716</td>\n",
       "      <td>0.045749</td>\n",
       "      <td>0.683793</td>\n",
       "      <td>0.389789</td>\n",
       "      <td>0.016787</td>\n",
       "      <td>0.503695</td>\n",
       "    </tr>\n",
       "    <tr>\n",
       "      <th>2</th>\n",
       "      <td>0.226428</td>\n",
       "      <td>0.268764</td>\n",
       "      <td>0.694262</td>\n",
       "      <td>0.622335</td>\n",
       "      <td>0.063843</td>\n",
       "      <td>0.122683</td>\n",
       "      <td>0.815625</td>\n",
       "      <td>0.584542</td>\n",
       "      <td>0.032594</td>\n",
       "      <td>0.589775</td>\n",
       "      <td>0.764350</td>\n",
       "      <td>0.650973</td>\n",
       "      <td>0.565705</td>\n",
       "      <td>0.691784</td>\n",
       "      <td>0.265223</td>\n",
       "      <td>0.739031</td>\n",
       "      <td>0.560394</td>\n",
       "      <td>0.334802</td>\n",
       "      <td>0.517694</td>\n",
       "      <td>0.646110</td>\n",
       "    </tr>\n",
       "    <tr>\n",
       "      <th>3</th>\n",
       "      <td>0.362748</td>\n",
       "      <td>0.495430</td>\n",
       "      <td>0.113876</td>\n",
       "      <td>0.594149</td>\n",
       "      <td>0.612522</td>\n",
       "      <td>0.625204</td>\n",
       "      <td>0.864050</td>\n",
       "      <td>0.260279</td>\n",
       "      <td>0.528873</td>\n",
       "      <td>0.168043</td>\n",
       "      <td>0.715929</td>\n",
       "      <td>0.677014</td>\n",
       "      <td>0.175735</td>\n",
       "      <td>0.632370</td>\n",
       "      <td>0.926715</td>\n",
       "      <td>0.085675</td>\n",
       "      <td>0.120525</td>\n",
       "      <td>0.141746</td>\n",
       "      <td>0.771144</td>\n",
       "      <td>0.489660</td>\n",
       "    </tr>\n",
       "    <tr>\n",
       "      <th>4</th>\n",
       "      <td>0.033415</td>\n",
       "      <td>0.340433</td>\n",
       "      <td>0.464971</td>\n",
       "      <td>0.363737</td>\n",
       "      <td>0.025815</td>\n",
       "      <td>0.434129</td>\n",
       "      <td>0.415163</td>\n",
       "      <td>0.892210</td>\n",
       "      <td>0.381701</td>\n",
       "      <td>0.415264</td>\n",
       "      <td>0.790801</td>\n",
       "      <td>0.696930</td>\n",
       "      <td>0.819751</td>\n",
       "      <td>0.944029</td>\n",
       "      <td>0.869965</td>\n",
       "      <td>0.041723</td>\n",
       "      <td>0.819140</td>\n",
       "      <td>0.676051</td>\n",
       "      <td>0.109349</td>\n",
       "      <td>0.872947</td>\n",
       "    </tr>\n",
       "  </tbody>\n",
       "</table>\n",
       "</div>"
      ],
      "text/plain": [
       "          0         1         2         3         4         5         6  \\\n",
       "0  0.132453  0.106635  0.673568  0.507253  0.162925  0.130042  0.980388   \n",
       "1  0.384938  0.767604  0.850528  0.605998  0.826172  0.667488  0.142045   \n",
       "2  0.318691  0.675720  0.807189  0.752518  0.531342  0.703225  0.598293   \n",
       "3  0.538593  0.291241  0.407187  0.613260  0.851424  0.962086  0.590512   \n",
       "4  0.713271  0.156210  0.392800  0.702348  0.009400  0.030304  0.960066   \n",
       "0  0.734751  0.195362  0.734309  0.598184  0.763433  0.263434  0.868066   \n",
       "1  0.772607  0.445391  0.249642  0.787922  0.598583  0.827238  0.624126   \n",
       "2  0.226428  0.268764  0.694262  0.622335  0.063843  0.122683  0.815625   \n",
       "3  0.362748  0.495430  0.113876  0.594149  0.612522  0.625204  0.864050   \n",
       "4  0.033415  0.340433  0.464971  0.363737  0.025815  0.434129  0.415163   \n",
       "\n",
       "          7         8         9        10        11        12        13  \\\n",
       "0  0.623167  0.074066  0.111557  0.864664  0.093637  0.446974  0.022525   \n",
       "1  0.086904  0.912348  0.892183  0.426389  0.776552  0.429496  0.602056   \n",
       "2  0.921508  0.563333  0.184300  0.667625  0.270017  0.573440  0.163669   \n",
       "3  0.980700  0.159022  0.684265  0.898633  0.470113  0.756593  0.282408   \n",
       "4  0.688937  0.260252  0.634608  0.273775  0.264145  0.682941  0.908499   \n",
       "0  0.058092  0.753502  0.587513  0.311608  0.178356  0.182922  0.147631   \n",
       "1  0.601524  0.688753  0.338870  0.081595  0.471474  0.267443  0.453351   \n",
       "2  0.584542  0.032594  0.589775  0.764350  0.650973  0.565705  0.691784   \n",
       "3  0.260279  0.528873  0.168043  0.715929  0.677014  0.175735  0.632370   \n",
       "4  0.892210  0.381701  0.415264  0.790801  0.696930  0.819751  0.944029   \n",
       "\n",
       "         14        15        16        17        18        19  \n",
       "0  0.713369  0.707874  0.563506  0.982256  0.562498  0.968681  \n",
       "1  0.283769  0.166793  0.316878  0.688337  0.169525  0.966198  \n",
       "2  0.032852  0.689315  0.973684  0.719610  0.163670  0.724486  \n",
       "3  0.551369  0.732153  0.494100  0.792803  0.794426  0.837695  \n",
       "4  0.450950  0.200761  0.968324  0.221165  0.891382  0.398914  \n",
       "0  0.391188  0.816049  0.749068  0.293260  0.937828  0.880858  \n",
       "1  0.800716  0.045749  0.683793  0.389789  0.016787  0.503695  \n",
       "2  0.265223  0.739031  0.560394  0.334802  0.517694  0.646110  \n",
       "3  0.926715  0.085675  0.120525  0.141746  0.771144  0.489660  \n",
       "4  0.869965  0.041723  0.819140  0.676051  0.109349  0.872947  "
      ]
     },
     "execution_count": 13,
     "metadata": {},
     "output_type": "execute_result"
    }
   ],
   "source": [
    "#os.path.join sirve para unir un path a una lista, y que así sepa referenciar cada archivo al path\n",
    "csv_list = [file for file in dirlist if file.endswith('.csv')]\n",
    "print(csv_list)\n",
    "data_sets = [pd.read_csv(os.path.join(\"/home/eiroamd/Documents/IH/Week1/lab-list-comprehensions/data\", file)) for file in csv_list]\n",
    "data_frame = pd.concat(data_sets)\n",
    "data_frame[:10]\n"
   ]
  },
  {
   "cell_type": "markdown",
   "metadata": {},
   "source": [
    "### 8. Use a list comprehension to select and print the column numbers for columns from the data set whose median is less than 0.48."
   ]
  },
  {
   "cell_type": "code",
   "execution_count": 14,
   "metadata": {},
   "outputs": [
    {
     "name": "stdout",
     "output_type": "stream",
     "text": [
      "['0', '1', '3', '4', '5', '6', '7', '8', '10', '11', '13', '15', '16', '18', '19']\n"
     ]
    }
   ],
   "source": [
    "median_columns = [i for i in data_frame._get_numeric_data() if data_frame[i].median() > 0.48]\n",
    "print(median_columns)"
   ]
  },
  {
   "cell_type": "markdown",
   "metadata": {},
   "source": [
    "### 9. Use a list comprehension to add a new column (20) to the data frame whose values are the values in column 19 minus 0.1. Display the top 10 rows of the resulting data frame."
   ]
  },
  {
   "cell_type": "code",
   "execution_count": 15,
   "metadata": {},
   "outputs": [
    {
     "data": {
      "text/html": [
       "<div>\n",
       "<style scoped>\n",
       "    .dataframe tbody tr th:only-of-type {\n",
       "        vertical-align: middle;\n",
       "    }\n",
       "\n",
       "    .dataframe tbody tr th {\n",
       "        vertical-align: top;\n",
       "    }\n",
       "\n",
       "    .dataframe thead th {\n",
       "        text-align: right;\n",
       "    }\n",
       "</style>\n",
       "<table border=\"1\" class=\"dataframe\">\n",
       "  <thead>\n",
       "    <tr style=\"text-align: right;\">\n",
       "      <th></th>\n",
       "      <th>0</th>\n",
       "      <th>1</th>\n",
       "      <th>2</th>\n",
       "      <th>3</th>\n",
       "      <th>4</th>\n",
       "      <th>5</th>\n",
       "      <th>6</th>\n",
       "      <th>7</th>\n",
       "      <th>8</th>\n",
       "      <th>9</th>\n",
       "      <th>...</th>\n",
       "      <th>11</th>\n",
       "      <th>12</th>\n",
       "      <th>13</th>\n",
       "      <th>14</th>\n",
       "      <th>15</th>\n",
       "      <th>16</th>\n",
       "      <th>17</th>\n",
       "      <th>18</th>\n",
       "      <th>19</th>\n",
       "      <th>20</th>\n",
       "    </tr>\n",
       "  </thead>\n",
       "  <tbody>\n",
       "    <tr>\n",
       "      <th>0</th>\n",
       "      <td>0.132453</td>\n",
       "      <td>0.106635</td>\n",
       "      <td>0.673568</td>\n",
       "      <td>0.507253</td>\n",
       "      <td>0.162925</td>\n",
       "      <td>0.130042</td>\n",
       "      <td>0.980388</td>\n",
       "      <td>0.623167</td>\n",
       "      <td>0.074066</td>\n",
       "      <td>0.111557</td>\n",
       "      <td>...</td>\n",
       "      <td>0.093637</td>\n",
       "      <td>0.446974</td>\n",
       "      <td>0.022525</td>\n",
       "      <td>0.713369</td>\n",
       "      <td>0.707874</td>\n",
       "      <td>0.563506</td>\n",
       "      <td>0.982256</td>\n",
       "      <td>0.562498</td>\n",
       "      <td>0.968681</td>\n",
       "      <td>0.868681</td>\n",
       "    </tr>\n",
       "    <tr>\n",
       "      <th>1</th>\n",
       "      <td>0.384938</td>\n",
       "      <td>0.767604</td>\n",
       "      <td>0.850528</td>\n",
       "      <td>0.605998</td>\n",
       "      <td>0.826172</td>\n",
       "      <td>0.667488</td>\n",
       "      <td>0.142045</td>\n",
       "      <td>0.086904</td>\n",
       "      <td>0.912348</td>\n",
       "      <td>0.892183</td>\n",
       "      <td>...</td>\n",
       "      <td>0.776552</td>\n",
       "      <td>0.429496</td>\n",
       "      <td>0.602056</td>\n",
       "      <td>0.283769</td>\n",
       "      <td>0.166793</td>\n",
       "      <td>0.316878</td>\n",
       "      <td>0.688337</td>\n",
       "      <td>0.169525</td>\n",
       "      <td>0.966198</td>\n",
       "      <td>0.866198</td>\n",
       "    </tr>\n",
       "    <tr>\n",
       "      <th>2</th>\n",
       "      <td>0.318691</td>\n",
       "      <td>0.675720</td>\n",
       "      <td>0.807189</td>\n",
       "      <td>0.752518</td>\n",
       "      <td>0.531342</td>\n",
       "      <td>0.703225</td>\n",
       "      <td>0.598293</td>\n",
       "      <td>0.921508</td>\n",
       "      <td>0.563333</td>\n",
       "      <td>0.184300</td>\n",
       "      <td>...</td>\n",
       "      <td>0.270017</td>\n",
       "      <td>0.573440</td>\n",
       "      <td>0.163669</td>\n",
       "      <td>0.032852</td>\n",
       "      <td>0.689315</td>\n",
       "      <td>0.973684</td>\n",
       "      <td>0.719610</td>\n",
       "      <td>0.163670</td>\n",
       "      <td>0.724486</td>\n",
       "      <td>0.624486</td>\n",
       "    </tr>\n",
       "    <tr>\n",
       "      <th>3</th>\n",
       "      <td>0.538593</td>\n",
       "      <td>0.291241</td>\n",
       "      <td>0.407187</td>\n",
       "      <td>0.613260</td>\n",
       "      <td>0.851424</td>\n",
       "      <td>0.962086</td>\n",
       "      <td>0.590512</td>\n",
       "      <td>0.980700</td>\n",
       "      <td>0.159022</td>\n",
       "      <td>0.684265</td>\n",
       "      <td>...</td>\n",
       "      <td>0.470113</td>\n",
       "      <td>0.756593</td>\n",
       "      <td>0.282408</td>\n",
       "      <td>0.551369</td>\n",
       "      <td>0.732153</td>\n",
       "      <td>0.494100</td>\n",
       "      <td>0.792803</td>\n",
       "      <td>0.794426</td>\n",
       "      <td>0.837695</td>\n",
       "      <td>0.737695</td>\n",
       "    </tr>\n",
       "    <tr>\n",
       "      <th>4</th>\n",
       "      <td>0.713271</td>\n",
       "      <td>0.156210</td>\n",
       "      <td>0.392800</td>\n",
       "      <td>0.702348</td>\n",
       "      <td>0.009400</td>\n",
       "      <td>0.030304</td>\n",
       "      <td>0.960066</td>\n",
       "      <td>0.688937</td>\n",
       "      <td>0.260252</td>\n",
       "      <td>0.634608</td>\n",
       "      <td>...</td>\n",
       "      <td>0.264145</td>\n",
       "      <td>0.682941</td>\n",
       "      <td>0.908499</td>\n",
       "      <td>0.450950</td>\n",
       "      <td>0.200761</td>\n",
       "      <td>0.968324</td>\n",
       "      <td>0.221165</td>\n",
       "      <td>0.891382</td>\n",
       "      <td>0.398914</td>\n",
       "      <td>0.298914</td>\n",
       "    </tr>\n",
       "    <tr>\n",
       "      <th>0</th>\n",
       "      <td>0.734751</td>\n",
       "      <td>0.195362</td>\n",
       "      <td>0.734309</td>\n",
       "      <td>0.598184</td>\n",
       "      <td>0.763433</td>\n",
       "      <td>0.263434</td>\n",
       "      <td>0.868066</td>\n",
       "      <td>0.058092</td>\n",
       "      <td>0.753502</td>\n",
       "      <td>0.587513</td>\n",
       "      <td>...</td>\n",
       "      <td>0.178356</td>\n",
       "      <td>0.182922</td>\n",
       "      <td>0.147631</td>\n",
       "      <td>0.391188</td>\n",
       "      <td>0.816049</td>\n",
       "      <td>0.749068</td>\n",
       "      <td>0.293260</td>\n",
       "      <td>0.937828</td>\n",
       "      <td>0.880858</td>\n",
       "      <td>0.780858</td>\n",
       "    </tr>\n",
       "    <tr>\n",
       "      <th>1</th>\n",
       "      <td>0.772607</td>\n",
       "      <td>0.445391</td>\n",
       "      <td>0.249642</td>\n",
       "      <td>0.787922</td>\n",
       "      <td>0.598583</td>\n",
       "      <td>0.827238</td>\n",
       "      <td>0.624126</td>\n",
       "      <td>0.601524</td>\n",
       "      <td>0.688753</td>\n",
       "      <td>0.338870</td>\n",
       "      <td>...</td>\n",
       "      <td>0.471474</td>\n",
       "      <td>0.267443</td>\n",
       "      <td>0.453351</td>\n",
       "      <td>0.800716</td>\n",
       "      <td>0.045749</td>\n",
       "      <td>0.683793</td>\n",
       "      <td>0.389789</td>\n",
       "      <td>0.016787</td>\n",
       "      <td>0.503695</td>\n",
       "      <td>0.403695</td>\n",
       "    </tr>\n",
       "    <tr>\n",
       "      <th>2</th>\n",
       "      <td>0.226428</td>\n",
       "      <td>0.268764</td>\n",
       "      <td>0.694262</td>\n",
       "      <td>0.622335</td>\n",
       "      <td>0.063843</td>\n",
       "      <td>0.122683</td>\n",
       "      <td>0.815625</td>\n",
       "      <td>0.584542</td>\n",
       "      <td>0.032594</td>\n",
       "      <td>0.589775</td>\n",
       "      <td>...</td>\n",
       "      <td>0.650973</td>\n",
       "      <td>0.565705</td>\n",
       "      <td>0.691784</td>\n",
       "      <td>0.265223</td>\n",
       "      <td>0.739031</td>\n",
       "      <td>0.560394</td>\n",
       "      <td>0.334802</td>\n",
       "      <td>0.517694</td>\n",
       "      <td>0.646110</td>\n",
       "      <td>0.546110</td>\n",
       "    </tr>\n",
       "    <tr>\n",
       "      <th>3</th>\n",
       "      <td>0.362748</td>\n",
       "      <td>0.495430</td>\n",
       "      <td>0.113876</td>\n",
       "      <td>0.594149</td>\n",
       "      <td>0.612522</td>\n",
       "      <td>0.625204</td>\n",
       "      <td>0.864050</td>\n",
       "      <td>0.260279</td>\n",
       "      <td>0.528873</td>\n",
       "      <td>0.168043</td>\n",
       "      <td>...</td>\n",
       "      <td>0.677014</td>\n",
       "      <td>0.175735</td>\n",
       "      <td>0.632370</td>\n",
       "      <td>0.926715</td>\n",
       "      <td>0.085675</td>\n",
       "      <td>0.120525</td>\n",
       "      <td>0.141746</td>\n",
       "      <td>0.771144</td>\n",
       "      <td>0.489660</td>\n",
       "      <td>0.389660</td>\n",
       "    </tr>\n",
       "    <tr>\n",
       "      <th>4</th>\n",
       "      <td>0.033415</td>\n",
       "      <td>0.340433</td>\n",
       "      <td>0.464971</td>\n",
       "      <td>0.363737</td>\n",
       "      <td>0.025815</td>\n",
       "      <td>0.434129</td>\n",
       "      <td>0.415163</td>\n",
       "      <td>0.892210</td>\n",
       "      <td>0.381701</td>\n",
       "      <td>0.415264</td>\n",
       "      <td>...</td>\n",
       "      <td>0.696930</td>\n",
       "      <td>0.819751</td>\n",
       "      <td>0.944029</td>\n",
       "      <td>0.869965</td>\n",
       "      <td>0.041723</td>\n",
       "      <td>0.819140</td>\n",
       "      <td>0.676051</td>\n",
       "      <td>0.109349</td>\n",
       "      <td>0.872947</td>\n",
       "      <td>0.772947</td>\n",
       "    </tr>\n",
       "  </tbody>\n",
       "</table>\n",
       "<p>10 rows × 21 columns</p>\n",
       "</div>"
      ],
      "text/plain": [
       "          0         1         2         3         4         5         6  \\\n",
       "0  0.132453  0.106635  0.673568  0.507253  0.162925  0.130042  0.980388   \n",
       "1  0.384938  0.767604  0.850528  0.605998  0.826172  0.667488  0.142045   \n",
       "2  0.318691  0.675720  0.807189  0.752518  0.531342  0.703225  0.598293   \n",
       "3  0.538593  0.291241  0.407187  0.613260  0.851424  0.962086  0.590512   \n",
       "4  0.713271  0.156210  0.392800  0.702348  0.009400  0.030304  0.960066   \n",
       "0  0.734751  0.195362  0.734309  0.598184  0.763433  0.263434  0.868066   \n",
       "1  0.772607  0.445391  0.249642  0.787922  0.598583  0.827238  0.624126   \n",
       "2  0.226428  0.268764  0.694262  0.622335  0.063843  0.122683  0.815625   \n",
       "3  0.362748  0.495430  0.113876  0.594149  0.612522  0.625204  0.864050   \n",
       "4  0.033415  0.340433  0.464971  0.363737  0.025815  0.434129  0.415163   \n",
       "\n",
       "          7         8         9  ...        11        12        13        14  \\\n",
       "0  0.623167  0.074066  0.111557  ...  0.093637  0.446974  0.022525  0.713369   \n",
       "1  0.086904  0.912348  0.892183  ...  0.776552  0.429496  0.602056  0.283769   \n",
       "2  0.921508  0.563333  0.184300  ...  0.270017  0.573440  0.163669  0.032852   \n",
       "3  0.980700  0.159022  0.684265  ...  0.470113  0.756593  0.282408  0.551369   \n",
       "4  0.688937  0.260252  0.634608  ...  0.264145  0.682941  0.908499  0.450950   \n",
       "0  0.058092  0.753502  0.587513  ...  0.178356  0.182922  0.147631  0.391188   \n",
       "1  0.601524  0.688753  0.338870  ...  0.471474  0.267443  0.453351  0.800716   \n",
       "2  0.584542  0.032594  0.589775  ...  0.650973  0.565705  0.691784  0.265223   \n",
       "3  0.260279  0.528873  0.168043  ...  0.677014  0.175735  0.632370  0.926715   \n",
       "4  0.892210  0.381701  0.415264  ...  0.696930  0.819751  0.944029  0.869965   \n",
       "\n",
       "         15        16        17        18        19        20  \n",
       "0  0.707874  0.563506  0.982256  0.562498  0.968681  0.868681  \n",
       "1  0.166793  0.316878  0.688337  0.169525  0.966198  0.866198  \n",
       "2  0.689315  0.973684  0.719610  0.163670  0.724486  0.624486  \n",
       "3  0.732153  0.494100  0.792803  0.794426  0.837695  0.737695  \n",
       "4  0.200761  0.968324  0.221165  0.891382  0.398914  0.298914  \n",
       "0  0.816049  0.749068  0.293260  0.937828  0.880858  0.780858  \n",
       "1  0.045749  0.683793  0.389789  0.016787  0.503695  0.403695  \n",
       "2  0.739031  0.560394  0.334802  0.517694  0.646110  0.546110  \n",
       "3  0.085675  0.120525  0.141746  0.771144  0.489660  0.389660  \n",
       "4  0.041723  0.819140  0.676051  0.109349  0.872947  0.772947  \n",
       "\n",
       "[10 rows x 21 columns]"
      ]
     },
     "execution_count": 15,
     "metadata": {},
     "output_type": "execute_result"
    }
   ],
   "source": [
    "data_frame['20'] = [(i-0.1) for i in data_frame['19']._get_numeric_data()]\n",
    "data_frame[:10]\n"
   ]
  },
  {
   "cell_type": "markdown",
   "metadata": {},
   "source": [
    "### 10. Use a list comprehension to extract and print all values from the data set that are between 0.7 and 0.75."
   ]
  },
  {
   "cell_type": "code",
   "execution_count": 21,
   "metadata": {},
   "outputs": [
    {
     "ename": "TypeError",
     "evalue": "'<' not supported between instances of 'str' and 'float'",
     "output_type": "error",
     "traceback": [
      "\u001b[0;31m---------------------------------------------------------------------------\u001b[0m",
      "\u001b[0;31mTypeError\u001b[0m                                 Traceback (most recent call last)",
      "\u001b[0;32m<ipython-input-21-d0e81abeff31>\u001b[0m in \u001b[0;36m<module>\u001b[0;34m\u001b[0m\n\u001b[0;32m----> 1\u001b[0;31m \u001b[0mlastlst\u001b[0m \u001b[0;34m=\u001b[0m \u001b[0;34m[\u001b[0m\u001b[0mfloat\u001b[0m\u001b[0;34m(\u001b[0m\u001b[0mi\u001b[0m\u001b[0;34m)\u001b[0m \u001b[0;32mfor\u001b[0m \u001b[0mi\u001b[0m \u001b[0;32min\u001b[0m \u001b[0mdata_frame\u001b[0m\u001b[0;34m.\u001b[0m\u001b[0m_get_numeric_data\u001b[0m\u001b[0;34m(\u001b[0m\u001b[0;34m)\u001b[0m \u001b[0;32mif\u001b[0m \u001b[0mi\u001b[0m \u001b[0;34m<\u001b[0m \u001b[0;36m0.75\u001b[0m\u001b[0;34m]\u001b[0m\u001b[0;34m\u001b[0m\u001b[0;34m\u001b[0m\u001b[0m\n\u001b[0m",
      "\u001b[0;32m<ipython-input-21-d0e81abeff31>\u001b[0m in \u001b[0;36m<listcomp>\u001b[0;34m(.0)\u001b[0m\n\u001b[0;32m----> 1\u001b[0;31m \u001b[0mlastlst\u001b[0m \u001b[0;34m=\u001b[0m \u001b[0;34m[\u001b[0m\u001b[0mfloat\u001b[0m\u001b[0;34m(\u001b[0m\u001b[0mi\u001b[0m\u001b[0;34m)\u001b[0m \u001b[0;32mfor\u001b[0m \u001b[0mi\u001b[0m \u001b[0;32min\u001b[0m \u001b[0mdata_frame\u001b[0m\u001b[0;34m.\u001b[0m\u001b[0m_get_numeric_data\u001b[0m\u001b[0;34m(\u001b[0m\u001b[0;34m)\u001b[0m \u001b[0;32mif\u001b[0m \u001b[0mi\u001b[0m \u001b[0;34m<\u001b[0m \u001b[0;36m0.75\u001b[0m\u001b[0;34m]\u001b[0m\u001b[0;34m\u001b[0m\u001b[0;34m\u001b[0m\u001b[0m\n\u001b[0m",
      "\u001b[0;31mTypeError\u001b[0m: '<' not supported between instances of 'str' and 'float'"
     ]
    }
   ],
   "source": [
    "lastlst = [i for i in data_frame._get_numeric_data() if i < 0.75 if i > 0.70]"
   ]
  }
 ],
 "metadata": {
  "kernelspec": {
   "display_name": "Python 3",
   "language": "python",
   "name": "python3"
  },
  "language_info": {
   "codemirror_mode": {
    "name": "ipython",
    "version": 3
   },
   "file_extension": ".py",
   "mimetype": "text/x-python",
   "name": "python",
   "nbconvert_exporter": "python",
   "pygments_lexer": "ipython3",
   "version": "3.6.7"
  }
 },
 "nbformat": 4,
 "nbformat_minor": 2
}
